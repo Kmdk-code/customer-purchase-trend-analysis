{
 "cells": [
  {
   "cell_type": "markdown",
   "id": "6feec46b",
   "metadata": {},
   "source": [
    "# Customer Purchase Trend Analysis"
   ]
  },
  {
   "cell_type": "code",
   "execution_count": null,
   "id": "1ce9cdbf",
   "metadata": {},
   "outputs": [],
   "source": [
    "\n",
    "import pandas as pd\n",
    "import numpy as np\n",
    "import matplotlib.pyplot as plt\n",
    "\n",
    "df = pd.read_csv(\"retail_sales_data.csv\")\n",
    "df['OrderDate'] = pd.to_datetime(df['OrderDate'], errors='coerce')\n",
    "df['Revenue'] = df['Quantity'] * df['Price']\n",
    "df.head()\n"
   ]
  },
  {
   "cell_type": "code",
   "execution_count": null,
   "id": "2c64eeb2",
   "metadata": {},
   "outputs": [],
   "source": [
    "\n",
    "total_revenue = df['Revenue'].sum()\n",
    "total_orders = df['OrderID'].nunique()\n",
    "total_customers = df['CustomerID'].nunique()\n",
    "avg_order_value = df.groupby('OrderID')['Revenue'].sum().mean()\n",
    "\n",
    "print(\"Total Revenue:\", f\"{total_revenue:,.0f}\")\n",
    "print(\"Total Orders:\", total_orders)\n",
    "print(\"Total Customers:\", total_customers)\n",
    "print(\"Average Order Value:\", f\"{avg_order_value:,.2f}\")\n"
   ]
  },
  {
   "cell_type": "code",
   "execution_count": null,
   "id": "77d08d5a",
   "metadata": {},
   "outputs": [],
   "source": [
    "\n",
    "df['YearMonth'] = df['OrderDate'].dt.to_period('M').astype(str)\n",
    "monthly_sales = df.groupby('YearMonth')['Revenue'].sum().reset_index()\n",
    "\n",
    "plt.figure()\n",
    "plt.plot(monthly_sales['YearMonth'], monthly_sales['Revenue'])\n",
    "plt.title(\"Monthly Sales Trend\")\n",
    "plt.xlabel(\"Month\")\n",
    "plt.ylabel(\"Revenue\")\n",
    "plt.xticks(rotation=45)\n",
    "plt.show()\n"
   ]
  },
  {
   "cell_type": "code",
   "execution_count": null,
   "id": "b3d0ce73",
   "metadata": {},
   "outputs": [],
   "source": [
    "\n",
    "product_revenue = df.groupby('Product')['Revenue'].sum().sort_values(ascending=False)\n",
    "top_products = product_revenue.head(10).reset_index().rename(columns={'Revenue': 'TotalRevenue'})\n",
    "bottom_products = product_revenue.tail(10).reset_index().rename(columns={'Revenue': 'TotalRevenue'})\n",
    "\n",
    "plt.figure()\n",
    "plt.bar(top_products['Product'], top_products['TotalRevenue'])\n",
    "plt.title(\"Top 10 Products by Revenue\")\n",
    "plt.xlabel(\"Product\")\n",
    "plt.ylabel(\"Total Revenue\")\n",
    "plt.xticks(rotation=45)\n",
    "plt.show()\n",
    "\n",
    "plt.figure()\n",
    "plt.bar(bottom_products['Product'], bottom_products['TotalRevenue'])\n",
    "plt.title(\"Bottom 10 Products by Revenue\")\n",
    "plt.xlabel(\"Product\")\n",
    "plt.ylabel(\"Total Revenue\")\n",
    "plt.xticks(rotation=45)\n",
    "plt.show()\n"
   ]
  },
  {
   "cell_type": "code",
   "execution_count": null,
   "id": "776c2f56",
   "metadata": {},
   "outputs": [],
   "source": [
    "\n",
    "customer_revenue = df.groupby('CustomerID')['Revenue'].sum().sort_values(ascending=False)\n",
    "top_customers = customer_revenue.head(10).reset_index().rename(columns={'Revenue': 'TotalRevenue'})\n",
    "\n",
    "plt.figure()\n",
    "plt.bar(top_customers['CustomerID'].astype(str), top_customers['TotalRevenue'])\n",
    "plt.title(\"Top 10 Customers by Revenue\")\n",
    "plt.xlabel(\"Customer ID\")\n",
    "plt.ylabel(\"Total Revenue\")\n",
    "plt.xticks(rotation=45)\n",
    "plt.show()\n"
   ]
  },
  {
   "cell_type": "code",
   "execution_count": null,
   "id": "cf792cf8",
   "metadata": {},
   "outputs": [],
   "source": [
    "\n",
    "category_revenue = df.groupby('Category')['Revenue'].sum().sort_values(ascending=False).reset_index()\n",
    "\n",
    "plt.figure()\n",
    "plt.bar(category_revenue['Category'], category_revenue['Revenue'])\n",
    "plt.title(\"Revenue by Category\")\n",
    "plt.xlabel(\"Category\")\n",
    "plt.ylabel(\"Revenue\")\n",
    "plt.xticks(rotation=45)\n",
    "plt.show()\n"
   ]
  }
 ],
 "metadata": {},
 "nbformat": 4,
 "nbformat_minor": 5
}
